{
  "nbformat": 4,
  "nbformat_minor": 0,
  "metadata": {
    "colab": {
      "provenance": [],
      "collapsed_sections": [],
      "include_colab_link": true
    },
    "kernelspec": {
      "name": "python3",
      "display_name": "Python 3"
    },
    "language_info": {
      "name": "python"
    }
  },
  "cells": [
    {
      "cell_type": "markdown",
      "metadata": {
        "id": "view-in-github",
        "colab_type": "text"
      },
      "source": [
        "<a href=\"https://colab.research.google.com/github/PedramDbg/CS-MachineLearning/blob/main/Assignment_3/ML_HW_03_p3.ipynb\" target=\"_parent\"><img src=\"https://colab.research.google.com/assets/colab-badge.svg\" alt=\"Open In Colab\"/></a>"
      ]
    },
    {
      "cell_type": "markdown",
      "source": [
        "**Q3_Part1:** What are the dimensions of the input and the kernel (or filter)? How many parameters are there in the kernel f?\n",
        "\n",
        "\n",
        "size of input : (1,6,6)\n",
        "size of filter: (1,3,3)\n",
        "\n",
        "Number of parameters:\n",
        "[(filter_size^2) * chanel + 1] * num_filter = $(3*3*1+1)*1 = 10$"
      ],
      "metadata": {
        "id": "bXSHT4wOdPrk"
      }
    },
    {
      "cell_type": "markdown",
      "source": [
        "**Q3_Part2:** What is the output activation map when you apply the convolutional operation using the filter f on the input X without padding?\n",
        "\n",
        "\n",
        "**Q3_Part3:** What is the output when you apply a max-pooling operation on the output from the previous question?\n",
        "\n"
      ],
      "metadata": {
        "id": "jRRCs8cheMek"
      }
    },
    {
      "cell_type": "code",
      "source": [
        "import torch\n",
        "\n",
        "# define input and filter\n",
        "X = torch.Tensor([[[[7, 5, 0, 0, 3, 2], \\\n",
        "                    [6, 4, 5, 1, 4, 8], \\\n",
        "                    [9, 0, 2, 2, 5, 4], \\\n",
        "                    [6, 3, 4, 7, 9, 8], \\\n",
        "                    [5, 7, 5, 6, 9, 0], \\\n",
        "                    [7, 9, 0, 8, 2, 3]]]])\n",
        "\n",
        "f = torch.Tensor([[[[1, 0, -1], \\\n",
        "                    [2, 0, -2], \\\n",
        "                    [1, 0, -1]]]])\n",
        "\n",
        "# apply filter\n",
        "out_filter = torch.nn.functional.conv2d(X, f)\n",
        "# apply pooling\n",
        "out_pool = torch.nn.MaxPool2d(out_filter)\n",
        "print('The tensor derived from filtering:', out_filter)\n",
        "print('The tensor derived from pooling:', out_pool)\n",
        "print('The size of the tensor derived from filtering:', torch.Tensor.size(out_filter))\n"
      ],
      "metadata": {
        "colab": {
          "base_uri": "https://localhost:8080/"
        },
        "id": "gVlYMEtkIv5l",
        "outputId": "fdca1277-cc60-4d03-838a-075a3c1a08d8"
      },
      "execution_count": null,
      "outputs": [
        {
          "output_type": "stream",
          "name": "stdout",
          "text": [
            "The tensor derived from filtering: tensor([[[[ 16.,   9.,  -4., -18.],\n",
            "          [ 17.,  -5., -10., -12.],\n",
            "          [ 11.,  -9., -17.,   2.],\n",
            "          [  9.,  -1., -15.,  16.]]]])\n",
            "The tensor derived from pooling: MaxPool2d(\n",
            "  kernel_size=tensor([[[[ 16.,   9.,  -4., -18.],\n",
            "            [ 17.,  -5., -10., -12.],\n",
            "            [ 11.,  -9., -17.,   2.],\n",
            "            [  9.,  -1., -15.,  16.]]]]), stride=tensor([[[[ 16.,   9.,  -4., -18.],\n",
            "            [ 17.,  -5., -10., -12.],\n",
            "            [ 11.,  -9., -17.,   2.],\n",
            "            [  9.,  -1., -15.,  16.]]]]), padding=0, dilation=1, ceil_mode=False\n",
            ")\n",
            "The size of the tensor derived from filtering: torch.Size([1, 1, 4, 4])\n"
          ]
        }
      ]
    }
  ]
}