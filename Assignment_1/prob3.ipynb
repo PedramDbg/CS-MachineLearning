{
  "nbformat": 4,
  "nbformat_minor": 0,
  "metadata": {
    "colab": {
      "provenance": [],
      "collapsed_sections": [],
      "authorship_tag": "ABX9TyP15OYVkUcHQZ0ngYP64HAm",
      "include_colab_link": true
    },
    "kernelspec": {
      "name": "python3",
      "display_name": "Python 3"
    },
    "language_info": {
      "name": "python"
    }
  },
  "cells": [
    {
      "cell_type": "markdown",
      "metadata": {
        "id": "view-in-github",
        "colab_type": "text"
      },
      "source": [
        "<a href=\"https://colab.research.google.com/github/PedramDbg/CS-MachineLearning/blob/main/Assignment_1/prob3.ipynb\" target=\"_parent\"><img src=\"https://colab.research.google.com/assets/colab-badge.svg\" alt=\"Open In Colab\"/></a>"
      ]
    },
    {
      "cell_type": "markdown",
      "source": [
        "**Problem 3:**\n",
        "\n",
        "Implement a locally weighted linear regression model for the data from Question 1. Refer to Slide 33\n",
        "from Lecture 4 for reference. You should implement your own version of linear regression either using\n",
        "gradient descent or normal equations. You SHOULD NOT use any pre-packaged library such as\n",
        "Sci-Kit Learn.\n",
        "Answer the following questions:\n",
        "1. Do you need any basis functions when using the locally weighted approach?\n",
        "2. What is the difference between this implementation and the one for Question 1?\n",
        "\n"
      ],
      "metadata": {
        "id": "Hj0Vix-75wSS"
      }
    },
    {
      "cell_type": "markdown",
      "source": [
        "Answer:\n",
        "\n",
        "1. No, we do not need any basis function.\n",
        "\n",
        "2. In locally weighted regression we don't need to obtain and store weights and bias as the weights are calculated using a data window containing a definite number of training data set.  "
      ],
      "metadata": {
        "id": "EWXdwSM7_dyQ"
      }
    },
    {
      "cell_type": "code",
      "source": [
        "# Numpy import\n",
        "import numpy as np \n",
        "# Plotting graphs\n",
        "import matplotlib.pyplot as plt\n",
        "\n",
        "# import training set\n",
        "from google.colab import drive\n",
        "drive.mount('/content/drive')\n",
        "\n",
        "# local location of the file.\n",
        "path_Xtrain=\"/content/drive/My Drive/Machine_Learning/Assignments/assignment_1/x_train.npy\"\n",
        "path_Ytrain=\"/content/drive/My Drive/Machine_Learning/Assignments/assignment_1/y_train.npy\"\n",
        "path_Xtest=\"/content/drive/My Drive/Machine_Learning/Assignments/assignment_1/x_test.npy\"\n",
        "path_Ytest=\"/content/drive/My Drive/Machine_Learning/Assignments/assignment_1/y_test.npy\"\n",
        "\n",
        "# load data\n",
        "xtrain = np.load(path_Xtrain)\n",
        "ytrain = np.load(path_Ytrain)\n",
        "xtest = np.load(path_Xtest)\n",
        "ytest = np.load(path_Ytest)"
      ],
      "metadata": {
        "colab": {
          "base_uri": "https://localhost:8080/"
        },
        "id": "bk1fBAk657c8",
        "outputId": "88ecf0e1-d51e-4ac1-851f-aff4d2a4defb"
      },
      "execution_count": 33,
      "outputs": [
        {
          "output_type": "stream",
          "name": "stdout",
          "text": [
            "Drive already mounted at /content/drive; to attempt to forcibly remount, call drive.mount(\"/content/drive\", force_remount=True).\n"
          ]
        }
      ]
    },
    {
      "cell_type": "code",
      "execution_count": null,
      "metadata": {
        "colab": {
          "base_uri": "https://localhost:8080/",
          "height": 573
        },
        "id": "5ZpIWEvD5sK_",
        "outputId": "805d8514-6099-4d17-9c2f-ad4efadc226a"
      },
      "outputs": [
        {
          "output_type": "display_data",
          "data": {
            "text/plain": [
              "<Figure size 432x288 with 1 Axes>"
            ],
            "image/png": "[encoded data removed]"
          },
          "metadata": {
            "needs_background": "light"
          }
        },
        {
          "output_type": "display_data",
          "data": {
            "text/plain": [
              "<Figure size 432x288 with 1 Axes>"
            ],
            "image/png": "[encoded data removed]"
          },
          "metadata": {
            "needs_background": "light"
          }
        }
      ],
      "source": [
        "class locally_weighted():\n",
        "  \n",
        "    def __init__(self, tau):\n",
        "        self.tau = tau\n",
        "        self.ind = 1\n",
        "\n",
        "    # plot the results of prediction for comparison\n",
        "    def plot(self, X, Y, path):\n",
        "        \n",
        "        band, ypred = self.prediction(X, Y)\n",
        "\n",
        "        plt.figure(self.ind)\n",
        "        self.ind += 1\n",
        "        plt.plot(X, Y, 'o', color='green', label=\"data\")\n",
        "        plt.plot(band, ypred, '.', color = 'yellow', label=\"prediction\")\n",
        "        plt.xlabel('features')\n",
        "        plt.ylabel('labels')\n",
        "        plt.legend(loc=\"upper left\")\n",
        "        plt.savefig(path)\n",
        "        \n",
        "    # caculate weight by using x_0, x and tau\n",
        "    def calculate_weight(self, x_0, X, tau):\n",
        "        return np.exp(np.sum((X - x_0) ** 2, axis=1) / (-2 * (tau **2) ))\n",
        "\t\n",
        "    # calculate \n",
        "    def regression_local_weighted(self, x_0, X, Y):\n",
        "        tau = self.tau\n",
        " \n",
        "        x_0 = np.r_[1, x_0]\n",
        "        X = np.c_[np.ones(len(X)), X]\n",
        "        \n",
        "        X_w = X.T * self.calculate_weight(x_0, X, tau)\n",
        "        theta = np.linalg.pinv(X_w @ X) @ X_w @ Y\n",
        "\n",
        "        return x_0 @ theta\n",
        "\n",
        "    def prediction(self, X, Y):\n",
        "\n",
        "        band = np.linspace(np.min(X), np.max(X), num=40) # define band for plotting X\n",
        "        prediction = [self.regression_local_weighted(x_0, X, Y) for x_0 in band]\n",
        "\n",
        "        return band, prediction\n",
        "\n",
        "        \n",
        "def main():\n",
        "\t\n",
        "    xtrain = np.load(path_Xtrain)\n",
        "    ytrain = np.load(path_Ytrain)\n",
        "    xtest = np.load(path_Xtest)\n",
        "    ytest = np.load(path_Ytest)\n",
        "\n",
        "    model = locally_weighted(tau=0.08)\n",
        "\n",
        "    file = 'train_local.png'\n",
        "    model.plot(xtrain, ytrain, file)\n",
        "    plt.title('Training set')\n",
        "    file = 'test_local.png'\n",
        "    model.plot(xtest, ytest, file)\n",
        "    plt.title('Tes set')\n",
        "\n",
        "if __name__ == \"__main__\" :\n",
        "\tmain()\n"
      ]
    }
  ]
}