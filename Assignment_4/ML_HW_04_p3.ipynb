{
  "nbformat": 4,
  "nbformat_minor": 0,
  "metadata": {
    "colab": {
      "provenance": [],
      "authorship_tag": "ABX9TyMLcRtLUGUTo6HFllA/8lI/",
      "include_colab_link": true
    },
    "kernelspec": {
      "name": "python3",
      "display_name": "Python 3"
    },
    "language_info": {
      "name": "python"
    },
    "accelerator": "GPU",
    "gpuClass": "standard"
  },
  "cells": [
    {
      "cell_type": "markdown",
      "metadata": {
        "id": "view-in-github",
        "colab_type": "text"
      },
      "source": [
        "<a href=\"https://colab.research.google.com/github/PedramDbg/CS-MachineLearning/blob/main/Assignment_4/ML_HW_04_p3.ipynb\" target=\"_parent\"><img src=\"https://colab.research.google.com/assets/colab-badge.svg\" alt=\"Open In Colab\"/></a>"
      ]
    },
    {
      "cell_type": "markdown",
      "source": [
        "***Problem 3***"
      ],
      "metadata": {
        "id": "vbqxeDhPu09B"
      }
    },
    {
      "cell_type": "code",
      "execution_count": null,
      "metadata": {
        "id": "0wtTjaT3qbzb"
      },
      "outputs": [],
      "source": [
        "# import the required libraries\n",
        "import numpy as np\n",
        "import pandas as pd\n",
        "from scipy.stats import mode\n",
        "import matplotlib.pyplot as plt\n"
      ]
    },
    {
      "cell_type": "code",
      "source": [
        "# define required functions\n",
        "def accuracy(y_true, y_pred): # calculate the accuracy of the prediction\n",
        "\n",
        "  return round(float(sum(y_pred == y_true))/float(len(y_true)) * 100 , 2)"
      ],
      "metadata": {
        "id": "bQl5q1d6Ph4Z"
      },
      "execution_count": null,
      "outputs": []
    },
    {
      "cell_type": "code",
      "source": [
        "# connect to the google drive\n",
        "from google.colab import drive\n",
        "drive.mount('/content/drive')"
      ],
      "metadata": {
        "colab": {
          "base_uri": "https://localhost:8080/"
        },
        "id": "q0hA76GtNeI0",
        "outputId": "9f55838d-4348-4374-82f6-d67e54f94dd2"
      },
      "execution_count": null,
      "outputs": [
        {
          "output_type": "stream",
          "name": "stdout",
          "text": [
            "Mounted at /content/drive\n"
          ]
        }
      ]
    },
    {
      "cell_type": "code",
      "source": [
        "# transfer data\n",
        "path = \"/content/drive/My Drive/Machine_Learning/Assignments/assignment_4\"\n",
        "\n",
        "df_train = pd.read_excel(path+\"/Asssignment4_Data.xlsx\", sheet_name= \"Train\")\n",
        "df_test  = pd.read_excel(path+\"/Asssignment4_Data.xlsx\", sheet_name= \"Test\" )"
      ],
      "metadata": {
        "id": "o7-sF8XINm9z"
      },
      "execution_count": null,
      "outputs": []
    },
    {
      "cell_type": "code",
      "source": [
        "# create training and test sets (features & labels)\n",
        "\n",
        "x_train = df_train.drop([\"House ID\", \"Construction type\"], axis=1).to_numpy()\n",
        "x_test = df_test.drop([\"House ID\", \"Construction type\"], axis=1).to_numpy()\n",
        "\n",
        "lab_train = df_train.iloc[: , -1].to_numpy()\n",
        "lab_test = df_test.iloc[: , -1].to_numpy()\n",
        "\n",
        "lab_sorted, y_train = np.unique(lab_train, return_inverse=True)\n",
        "y_test = np.zeros_like(lab_test)\n",
        "for i in range (len(lab_sorted)):\n",
        "  y_test[lab_test==lab_sorted[i]]= i"
      ],
      "metadata": {
        "id": "6hEGYXhbOiYx"
      },
      "execution_count": null,
      "outputs": []
    },
    {
      "cell_type": "code",
      "source": [
        "# standardize data\n",
        "mean_x = np.mean(x_train, axis=0) # calculate mean of the training set\n",
        "std_x = np.std(x_train, axis=0) # calculate standard deviation of the training set\n",
        "\n",
        "x_train_st = (x_train - mean_x) / std_x # standardize features on the trainig set\n",
        "x_test_st = (x_test - mean_x) / std_x # standardize features on the test set"
      ],
      "metadata": {
        "id": "JqH9pOKdPJBh"
      },
      "execution_count": null,
      "outputs": []
    },
    {
      "cell_type": "code",
      "source": [
        "class KNN_classifier:\n",
        "\n",
        "    def __init__(self, k, x_train, y_train):\n",
        "        self.k = k\n",
        "        self.x_train = x_train\n",
        "        self.y_train = y_train\n",
        "\n",
        "    def predict(self, x_test):\n",
        "\n",
        "        m = self.x_train.shape[0]\n",
        "        n = x_test.shape[0]\n",
        "        y_pred = []\n",
        "\n",
        "        # Calculating distances  \n",
        "        for i in range(n):  # for every sample in X_test\n",
        "            distance = []  # To store the distances\n",
        "            for j in range(m):  # for every sample in X_train\n",
        "                d = (np.sqrt(np.sum(np.square(x_test[i,:] - self.x_train[j,:]))))  # Euclidean distance\n",
        "                distance.append((d, self.y_train[j]))    \n",
        "            distance = sorted(distance) # sorting distances in ascending order\n",
        "\n",
        "            # Getting k nearest neighbors\n",
        "            neighbors = []\n",
        "            for item in range(self.k):\n",
        "                neighbors.append(distance[item][1])  # appending K nearest neighbors\n",
        "\n",
        "            # Making predictions\n",
        "            y_pred.append(mode(neighbors)[0][0])  # For Classification\n",
        "        return y_pred"
      ],
      "metadata": {
        "id": "pTiXJ-ayPqY7"
      },
      "execution_count": null,
      "outputs": []
    },
    {
      "cell_type": "code",
      "source": [
        "# calculate accuracy\n",
        "pred_test = []\n",
        "pred_train = []\n",
        "acc_test_lst = []\n",
        "acc_train_lst = []\n",
        "k_lst = range(1, 7)\n",
        "\n",
        "for k in k_lst:\n",
        "\n",
        "    knn_1 = KNN_classifier(k, x_train_st, y_train)\n",
        "    # prediction\n",
        "    y_pred_train = knn_1.predict(x_train_st)\n",
        "    y_pred_test = knn_1.predict(x_test_st)\n",
        "\n",
        "    acc_train = accuracy(y_pred_train, y_train)\n",
        "    acc_test = accuracy(y_pred_test, y_test)\n",
        "\n",
        "    acc_train_lst.append(acc_train)\n",
        "    acc_test_lst.append(acc_test)\n",
        "\n",
        "    pred_test.append(lab_sorted[y_pred_train])\n",
        "    pred_test.append(lab_sorted[y_pred_test])"
      ],
      "metadata": {
        "id": "4YDye91gRPj9"
      },
      "execution_count": null,
      "outputs": []
    },
    {
      "cell_type": "code",
      "source": [
        "# Plot accuracy\n",
        "plt.figure(figsize=(12, 6))\n",
        "plt.plot(k_lst, acc_train_lst, color='g', label=\"Train\")\n",
        "plt.plot(k_lst, acc_test_lst, color='y', label=\"Test\")\n",
        "plt.xlabel('Number of nearest neighbors (k)', fontsize=18)\n",
        "plt.ylabel('Accuracy', fontsize=18)\n",
        "plt.title('Model accuracy vs the number of nearest neighbors', fontsize=18, pad=15)\n",
        "plt.legend()\n",
        "plt.show()\n"
      ],
      "metadata": {
        "colab": {
          "base_uri": "https://localhost:8080/",
          "height": 425
        },
        "id": "9BjngWqKStHt",
        "outputId": "2ec0791c-d974-4bff-97eb-a66a58ff9c6f"
      },
      "execution_count": null,
      "outputs": [
        {
          "output_type": "display_data",
          "data": {
            "text/plain": [
              "<Figure size 864x432 with 1 Axes>"
            ],
            "image/png": "[encoded data removed]"
          },
          "metadata": {
            "needs_background": "light"
          }
        }
      ]
    },
    {
      "cell_type": "code",
      "source": [
        "# compare the results\n",
        "print(\"labels (test set)\", lab_sorted[y_test.astype('int32')])\n",
        "print(\"The prediction (k=4)\", pred_test[3])\n"
      ],
      "metadata": {
        "colab": {
          "base_uri": "https://localhost:8080/"
        },
        "id": "caBjvBJsUMRF",
        "outputId": "fad0ac13-7975-41f6-ed2b-46429deaf01a"
      },
      "execution_count": null,
      "outputs": [
        {
          "output_type": "stream",
          "name": "stdout",
          "text": [
            "labels (test set) ['Apartment' 'House' 'House' 'Apartment' 'Apartment']\n",
            "The prediction (k=4) ['Apartment' 'Apartment' 'Apartment' 'Apartment' 'Apartment']\n"
          ]
        }
      ]
    }
  ]
}