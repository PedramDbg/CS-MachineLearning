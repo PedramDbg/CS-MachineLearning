{
  "nbformat": 4,
  "nbformat_minor": 0,
  "metadata": {
    "colab": {
      "provenance": [],
      "authorship_tag": "ABX9TyMaWt2GHZQzFz/j28Z0K/th",
      "include_colab_link": true
    },
    "kernelspec": {
      "name": "python3",
      "display_name": "Python 3"
    },
    "language_info": {
      "name": "python"
    },
    "accelerator": "GPU",
    "gpuClass": "standard"
  },
  "cells": [
    {
      "cell_type": "markdown",
      "metadata": {
        "id": "view-in-github",
        "colab_type": "text"
      },
      "source": [
        "<a href=\"https://colab.research.google.com/github/PedramDbg/CS-MachineLearning/blob/main/Assignment_4/ML_HW_04_p1.ipynb\" target=\"_parent\"><img src=\"https://colab.research.google.com/assets/colab-badge.svg\" alt=\"Open In Colab\"/></a>"
      ]
    },
    {
      "cell_type": "markdown",
      "source": [
        "***Problem 1***"
      ],
      "metadata": {
        "id": "9CwgVvZBHHgn"
      }
    },
    {
      "cell_type": "markdown",
      "source": [
        "**Part1:** Compute and show the conditional probability distribution for each feature. Explain how you got these values and show your work.**\n",
        "Note: You are expected to do this part of the question by hand. Explain how you got the probability distribution for at least two features in detail.\n",
        "\n",
        "Maximum A Posterior: $P(C|\\pmb{X})\\propto P(\\pmb{X}|C) * P(C)$\n",
        "\n",
        "Naive Bayes rule: $P(X_1,X_2,...,X_n|C)=P(X_1|C)P(X_2|C)...P(X_n|C)$\n",
        "\n",
        "\n",
        "\n",
        "$P(\\textrm{apartment}|\\pmb{X})\\propto P(\\pmb{X}|\\textrm{apartment}) * P(\\textrm{apartment})$\n",
        "\n",
        "$P(\\pmb{X}|\\textrm{apartment})=P(\\textrm{local price}|\\textrm{apartment})P(\\textrm{bathrooms}|\\textrm{apartment})...P(\\textrm{age of home}|\\textrm{apartment})$\n",
        "\n",
        "\n",
        "\n",
        "\n",
        "$\\textrm{n}(\\textrm{local Price}|\\textrm{apartment})=4.9176+4.5573+5.0597+14.4598+5.05+8.2464+9.0384=51.3292$\n",
        "\n",
        "$\\textrm{n}(\\textrm{land area}|\\textrm{apartment})=42.727$\n",
        "\n",
        "$\\textrm{n}(\\textrm{bathrooms}|\\textrm{apartment})=1+1+1+2.5+1+1.5+1=9$\n",
        "\n",
        "$\\textrm{n}(\\textrm{living area}|\\textrm{apartment})=10.535$\n",
        "\n",
        "$\\textrm{n}(\\textrm{# rooms}|\\textrm{apartment})=48$\n",
        "\n",
        "$\\textrm{n}(\\textrm{# garages}|\\textrm{apartment})=8.5$\n",
        "\n",
        "$\\textrm{n}(\\textrm{age of home}|\\textrm{apartment})=271$\n",
        "\n",
        "$\\textrm{n}(\\textrm{# bedrooms}|\\textrm{apartment})=24$\n",
        "\n",
        "$\\textrm{n}(\\textrm{apartment})=51.3292+9+42.727+10.535+8.5+48+24+271=465.0912$\n",
        "\n",
        "\n",
        "\n",
        "\n",
        "\n",
        "$P(\\textrm{living area}|\\textrm{apartment})=\\frac{10.535}{465.0912}=0.022651$\n",
        "\n",
        "$P(\\textrm{local Price}|\\textrm{apartment})=\\frac{51.3292}{465.0912}=0.110364$\n",
        "\n",
        "$P(\\textrm{land Area}|\\textrm{apartment})=\\frac{42.727}{465.0912}=0.091868$\n",
        "\n",
        "$P(\\textrm{bathrooms}|\\textrm{apartment})=\\frac{9}{465.0912}=0.019351$\n",
        "\n",
        "$P(\\textrm{# bedrooms}|\\textrm{apartment})=\\frac{24}{465.0912}=0.051603$\n",
        "\n",
        "$P(\\textrm{# garages}|\\textrm{apartment})=\\frac{8.5}{465.0912}=0.018276$\n",
        "\n",
        "$P(\\textrm{# rooms}|\\textrm{apartment})=\\frac{48}{465.0912}=0.103206$\n",
        "\n",
        "$P(\\textrm{age of home}|\\textrm{apartment})=\\frac{271}{465.0912}=0.582681$\n",
        "\n",
        "\n"
      ],
      "metadata": {
        "id": "j_DQGxGosTWL"
      }
    },
    {
      "cell_type": "code",
      "execution_count": null,
      "metadata": {
        "id": "0wtTjaT3qbzb"
      },
      "outputs": [],
      "source": [
        "# import required libraries\n",
        "import numpy as np\n",
        "import matplotlib.pyplot as plt\n",
        "import pandas as pd\n",
        "import seaborn as sns\n"
      ]
    },
    {
      "cell_type": "code",
      "source": [
        "# define required functions\n",
        "def accuracy(y_true, y_pred): # calculate the accuracy of the prediction\n",
        "\n",
        "  return round(float(sum(y_pred == y_true))/float(len(y_true)) * 100 , 2)"
      ],
      "metadata": {
        "id": "fnN8rn9yhSWL"
      },
      "execution_count": null,
      "outputs": []
    },
    {
      "cell_type": "code",
      "source": [
        "# import the required package for loading the data\n",
        "from google.colab import drive\n",
        "drive.mount('/content/drive')"
      ],
      "metadata": {
        "colab": {
          "base_uri": "https://localhost:8080/"
        },
        "id": "NZu-Nf-gq-Ku",
        "outputId": "3d6914bb-72d2-4af0-cb21-9a9cd17155aa"
      },
      "execution_count": null,
      "outputs": [
        {
          "output_type": "stream",
          "name": "stdout",
          "text": [
            "Mounted at /content/drive\n"
          ]
        }
      ]
    },
    {
      "cell_type": "code",
      "source": [
        "# transfer data\n",
        "\n",
        "path = \"/content/drive/My Drive/Machine_Learning/Assignments/assignment_4\"\n",
        "\n",
        "df_train = pd.read_excel(path+\"/Asssignment4_Data.xlsx\", sheet_name= \"Train\")\n",
        "df_test  = pd.read_excel(path+\"/Asssignment4_Data.xlsx\", sheet_name= \"Test\" )"
      ],
      "metadata": {
        "id": "uAIHlFxUrRUK"
      },
      "execution_count": null,
      "outputs": []
    },
    {
      "cell_type": "code",
      "source": [
        "dt_train_apt = df_train[df_train['Construction type']=='Apartment'] # data_train_apartment\n",
        "dt_train_con = df_train[df_train['Construction type']=='Condo']     # data_train_condo\n",
        "dt_train_hos = df_train[df_train['Construction type']=='House']     # data_train_house\n",
        "dt_train_apt"
      ],
      "metadata": {
        "id": "sYJNodtmtAsO",
        "colab": {
          "base_uri": "https://localhost:8080/",
          "height": 269
        },
        "outputId": "a7b6e063-3c71-4d31-e9d4-7fe9a842a06e"
      },
      "execution_count": null,
      "outputs": [
        {
          "output_type": "execute_result",
          "data": {
            "text/plain": [
              "    House ID  Local Price  Bathrooms  Land Area  Living area  # Garages  \\\n",
              "0          1       4.9176        1.0      3.472        0.998        1.0   \n",
              "3          4       4.5573        1.0      4.050        1.232        1.0   \n",
              "4          5       5.0597        1.0      4.455        1.121        1.0   \n",
              "9         10      14.4598        2.5     12.800        3.000        2.0   \n",
              "14        15       5.0500        1.0      5.000        1.020        0.0   \n",
              "16        17       8.2464        1.5      5.150        1.664        2.0   \n",
              "19        20       9.0384        1.0      7.800        1.500        1.5   \n",
              "\n",
              "    # Rooms  # Bedrooms  Age of home Construction type  \n",
              "0         7           4           42         Apartment  \n",
              "3         6           3           54         Apartment  \n",
              "4         6           3           42         Apartment  \n",
              "9         9           5           14         Apartment  \n",
              "14        5           2           46         Apartment  \n",
              "16        8           4           50         Apartment  \n",
              "19        7           3           23         Apartment  "
            ],
            "text/html": [
              "\n",
              "  <div id=\"df-74e8f26b-bf68-45fb-ab52-e4b53b7a3743\">\n",
              "    <div class=\"colab-df-container\">\n",
              "      <div>\n",
              "<style scoped>\n",
              "    .dataframe tbody tr th:only-of-type {\n",
              "        vertical-align: middle;\n",
              "    }\n",
              "\n",
              "    .dataframe tbody tr th {\n",
              "        vertical-align: top;\n",
              "    }\n",
              "\n",
              "    .dataframe thead th {\n",
              "        text-align: right;\n",
              "    }\n",
              "</style>\n",
              "<table border=\"1\" class=\"dataframe\">\n",
              "  <thead>\n",
              "    <tr style=\"text-align: right;\">\n",
              "      <th></th>\n",
              "      <th>House ID</th>\n",
              "      <th>Local Price</th>\n",
              "      <th>Bathrooms</th>\n",
              "      <th>Land Area</th>\n",
              "      <th>Living area</th>\n",
              "      <th># Garages</th>\n",
              "      <th># Rooms</th>\n",
              "      <th># Bedrooms</th>\n",
              "      <th>Age of home</th>\n",
              "      <th>Construction type</th>\n",
              "    </tr>\n",
              "  </thead>\n",
              "  <tbody>\n",
              "    <tr>\n",
              "      <th>0</th>\n",
              "      <td>1</td>\n",
              "      <td>4.9176</td>\n",
              "      <td>1.0</td>\n",
              "      <td>3.472</td>\n",
              "      <td>0.998</td>\n",
              "      <td>1.0</td>\n",
              "      <td>7</td>\n",
              "      <td>4</td>\n",
              "      <td>42</td>\n",
              "      <td>Apartment</td>\n",
              "    </tr>\n",
              "    <tr>\n",
              "      <th>3</th>\n",
              "      <td>4</td>\n",
              "      <td>4.5573</td>\n",
              "      <td>1.0</td>\n",
              "      <td>4.050</td>\n",
              "      <td>1.232</td>\n",
              "      <td>1.0</td>\n",
              "      <td>6</td>\n",
              "      <td>3</td>\n",
              "      <td>54</td>\n",
              "      <td>Apartment</td>\n",
              "    </tr>\n",
              "    <tr>\n",
              "      <th>4</th>\n",
              "      <td>5</td>\n",
              "      <td>5.0597</td>\n",
              "      <td>1.0</td>\n",
              "      <td>4.455</td>\n",
              "      <td>1.121</td>\n",
              "      <td>1.0</td>\n",
              "      <td>6</td>\n",
              "      <td>3</td>\n",
              "      <td>42</td>\n",
              "      <td>Apartment</td>\n",
              "    </tr>\n",
              "    <tr>\n",
              "      <th>9</th>\n",
              "      <td>10</td>\n",
              "      <td>14.4598</td>\n",
              "      <td>2.5</td>\n",
              "      <td>12.800</td>\n",
              "      <td>3.000</td>\n",
              "      <td>2.0</td>\n",
              "      <td>9</td>\n",
              "      <td>5</td>\n",
              "      <td>14</td>\n",
              "      <td>Apartment</td>\n",
              "    </tr>\n",
              "    <tr>\n",
              "      <th>14</th>\n",
              "      <td>15</td>\n",
              "      <td>5.0500</td>\n",
              "      <td>1.0</td>\n",
              "      <td>5.000</td>\n",
              "      <td>1.020</td>\n",
              "      <td>0.0</td>\n",
              "      <td>5</td>\n",
              "      <td>2</td>\n",
              "      <td>46</td>\n",
              "      <td>Apartment</td>\n",
              "    </tr>\n",
              "    <tr>\n",
              "      <th>16</th>\n",
              "      <td>17</td>\n",
              "      <td>8.2464</td>\n",
              "      <td>1.5</td>\n",
              "      <td>5.150</td>\n",
              "      <td>1.664</td>\n",
              "      <td>2.0</td>\n",
              "      <td>8</td>\n",
              "      <td>4</td>\n",
              "      <td>50</td>\n",
              "      <td>Apartment</td>\n",
              "    </tr>\n",
              "    <tr>\n",
              "      <th>19</th>\n",
              "      <td>20</td>\n",
              "      <td>9.0384</td>\n",
              "      <td>1.0</td>\n",
              "      <td>7.800</td>\n",
              "      <td>1.500</td>\n",
              "      <td>1.5</td>\n",
              "      <td>7</td>\n",
              "      <td>3</td>\n",
              "      <td>23</td>\n",
              "      <td>Apartment</td>\n",
              "    </tr>\n",
              "  </tbody>\n",
              "</table>\n",
              "</div>\n",
              "      <button class=\"colab-df-convert\" onclick=\"convertToInteractive('df-74e8f26b-bf68-45fb-ab52-e4b53b7a3743')\"\n",
              "              title=\"Convert this dataframe to an interactive table.\"\n",
              "              style=\"display:none;\">\n",
              "        \n",
              "  <svg xmlns=\"http://www.w3.org/2000/svg\" height=\"24px\"viewBox=\"0 0 24 24\"\n",
              "       width=\"24px\">\n",
              "    <path d=\"M0 0h24v24H0V0z\" fill=\"none\"/>\n",
              "    <path d=\"M18.56 5.44l.94 2.06.94-2.06 2.06-.94-2.06-.94-.94-2.06-.94 2.06-2.06.94zm-11 1L8.5 8.5l.94-2.06 2.06-.94-2.06-.94L8.5 2.5l-.94 2.06-2.06.94zm10 10l.94 2.06.94-2.06 2.06-.94-2.06-.94-.94-2.06-.94 2.06-2.06.94z\"/><path d=\"M17.41 7.96l-1.37-1.37c-.4-.4-.92-.59-1.43-.59-.52 0-1.04.2-1.43.59L10.3 9.45l-7.72 7.72c-.78.78-.78 2.05 0 2.83L4 21.41c.39.39.9.59 1.41.59.51 0 1.02-.2 1.41-.59l7.78-7.78 2.81-2.81c.8-.78.8-2.07 0-2.86zM5.41 20L4 18.59l7.72-7.72 1.47 1.35L5.41 20z\"/>\n",
              "  </svg>\n",
              "      </button>\n",
              "      \n",
              "  <style>\n",
              "    .colab-df-container {\n",
              "      display:flex;\n",
              "      flex-wrap:wrap;\n",
              "      gap: 12px;\n",
              "    }\n",
              "\n",
              "    .colab-df-convert {\n",
              "      background-color: #E8F0FE;\n",
              "      border: none;\n",
              "      border-radius: 50%;\n",
              "      cursor: pointer;\n",
              "      display: none;\n",
              "      fill: #1967D2;\n",
              "      height: 32px;\n",
              "      padding: 0 0 0 0;\n",
              "      width: 32px;\n",
              "    }\n",
              "\n",
              "    .colab-df-convert:hover {\n",
              "      background-color: #E2EBFA;\n",
              "      box-shadow: 0px 1px 2px rgba(60, 64, 67, 0.3), 0px 1px 3px 1px rgba(60, 64, 67, 0.15);\n",
              "      fill: #174EA6;\n",
              "    }\n",
              "\n",
              "    [theme=dark] .colab-df-convert {\n",
              "      background-color: #3B4455;\n",
              "      fill: #D2E3FC;\n",
              "    }\n",
              "\n",
              "    [theme=dark] .colab-df-convert:hover {\n",
              "      background-color: #434B5C;\n",
              "      box-shadow: 0px 1px 3px 1px rgba(0, 0, 0, 0.15);\n",
              "      filter: drop-shadow(0px 1px 2px rgba(0, 0, 0, 0.3));\n",
              "      fill: #FFFFFF;\n",
              "    }\n",
              "  </style>\n",
              "\n",
              "      <script>\n",
              "        const buttonEl =\n",
              "          document.querySelector('#df-74e8f26b-bf68-45fb-ab52-e4b53b7a3743 button.colab-df-convert');\n",
              "        buttonEl.style.display =\n",
              "          google.colab.kernel.accessAllowed ? 'block' : 'none';\n",
              "\n",
              "        async function convertToInteractive(key) {\n",
              "          const element = document.querySelector('#df-74e8f26b-bf68-45fb-ab52-e4b53b7a3743');\n",
              "          const dataTable =\n",
              "            await google.colab.kernel.invokeFunction('convertToInteractive',\n",
              "                                                     [key], {});\n",
              "          if (!dataTable) return;\n",
              "\n",
              "          const docLinkHtml = 'Like what you see? Visit the ' +\n",
              "            '<a target=\"_blank\" href=https://colab.research.google.com/notebooks/data_table.ipynb>data table notebook</a>'\n",
              "            + ' to learn more about interactive tables.';\n",
              "          element.innerHTML = '';\n",
              "          dataTable['output_type'] = 'display_data';\n",
              "          await google.colab.output.renderOutput(dataTable, element);\n",
              "          const docLink = document.createElement('div');\n",
              "          docLink.innerHTML = docLinkHtml;\n",
              "          element.appendChild(docLink);\n",
              "        }\n",
              "      </script>\n",
              "    </div>\n",
              "  </div>\n",
              "  "
            ]
          },
          "metadata": {},
          "execution_count": 5
        }
      ]
    },
    {
      "cell_type": "code",
      "source": [
        "# calculate the total value for each feature\n",
        "dt_train_apt_t = pd.DataFrame(dt_train_apt.iloc[:,1:9].sum()) # data_train_apartment_total\n",
        "dt_train_con_t = pd.DataFrame(dt_train_con.iloc[:,1:9].sum()) # data_train_codo_total\n",
        "dt_train_hos_t = pd.DataFrame(dt_train_hos.iloc[:,1:9].sum()) # data_train_house_total"
      ],
      "metadata": {
        "id": "g1xPiLnUtEey"
      },
      "execution_count": null,
      "outputs": []
    },
    {
      "cell_type": "code",
      "source": [
        "# demonstrate a class just for checking\n",
        "print(dt_train_con_t)\n",
        "print(dt_train_con)"
      ],
      "metadata": {
        "id": "p9QcjhMjtHac",
        "colab": {
          "base_uri": "https://localhost:8080/"
        },
        "outputId": "4bc5a927-4ff6-4d36-886a-d15e6b62c628"
      },
      "execution_count": null,
      "outputs": [
        {
          "output_type": "stream",
          "name": "stdout",
          "text": [
            "                    0\n",
            "Local Price   44.4954\n",
            "Bathrooms      8.0000\n",
            "Land Area     36.1480\n",
            "Living area    9.3200\n",
            "# Garages      8.0000\n",
            "# Rooms       41.0000\n",
            "# Bedrooms    20.0000\n",
            "Age of home  238.0000\n",
            "    House ID  Local Price  Bathrooms  Land Area  Living area  # Garages  \\\n",
            "2          3       4.5429        1.0      2.275        1.175        1.0   \n",
            "5          6       3.8910        1.0      4.455        0.988        1.0   \n",
            "6          7       5.8980        1.0      5.850        1.240        1.0   \n",
            "8          9      16.4202        2.5      9.800        3.420        2.0   \n",
            "13        14       5.9592        1.0      6.666        1.121        2.0   \n",
            "18        19       7.7841        1.5      7.102        1.376        1.0   \n",
            "\n",
            "    # Rooms  # Bedrooms  Age of home Construction type  \n",
            "2         6           3           40             Condo  \n",
            "5         6           3           56             Condo  \n",
            "6         7           3           51             Condo  \n",
            "8        10           5           42             Condo  \n",
            "13        6           3           32             Condo  \n",
            "18        6           3           17             Condo  \n"
          ]
        }
      ]
    },
    {
      "cell_type": "code",
      "source": [
        "# calculate the probability of classes\n",
        "# apartment class probability\n",
        "apt_t = dt_train_apt_t.sum() # total value of the apartment class\n",
        "apt_prob = pd.DataFrame(dt_train_apt_t / apt_t) # the apartment class probability\n",
        "\n",
        "con_t = dt_train_con_t.sum() # total value of the condo class\n",
        "con_prob = pd.DataFrame(dt_train_con_t / con_t) # the condo class probability\n",
        "\n",
        "hos_t = dt_train_hos_t.sum() # total value of the house class\n",
        "hos_prob = pd.DataFrame(dt_train_hos_t / hos_t) # the house class probability\n",
        "\n",
        "print(\"The apartment class probability is:\", apt_prob, '\\r\\n')\n",
        "print(\"The codo class probability is:\", con_prob, '\\r\\n')\n",
        "print(\"The house class probability is:\", hos_prob, '\\r\\n')"
      ],
      "metadata": {
        "id": "16KGWyvi_pN7",
        "colab": {
          "base_uri": "https://localhost:8080/"
        },
        "outputId": "27bb2efe-0f95-462b-eeb3-c9ae4b261a87"
      },
      "execution_count": null,
      "outputs": [
        {
          "output_type": "stream",
          "name": "stdout",
          "text": [
            "The apartment class probability is:                     0\n",
            "Local Price  0.110364\n",
            "Bathrooms    0.019351\n",
            "Land Area    0.091868\n",
            "Living area  0.022651\n",
            "# Garages    0.018276\n",
            "# Rooms      0.103206\n",
            "# Bedrooms   0.051603\n",
            "Age of home  0.582681 \r\n",
            "\n",
            "The codo class probability is:                     0\n",
            "Local Price  0.109875\n",
            "Bathrooms    0.019755\n",
            "Land Area    0.089262\n",
            "Living area  0.023014\n",
            "# Garages    0.019755\n",
            "# Rooms      0.101244\n",
            "# Bedrooms   0.049387\n",
            "Age of home  0.587707 \r\n",
            "\n",
            "The house class probability is:                     0\n",
            "Local Price  0.097056\n",
            "Bathrooms    0.018051\n",
            "Land Area    0.111716\n",
            "Living area  0.023447\n",
            "# Garages    0.018051\n",
            "# Rooms      0.103494\n",
            "# Bedrooms   0.050544\n",
            "Age of home  0.577640 \r\n",
            "\n"
          ]
        }
      ]
    },
    {
      "cell_type": "code",
      "source": [
        "# calculate the prior for classes\n",
        "apt_prior = len(dt_train_apt.index)/len(df_train.index) # the apartment class prior\n",
        "con_prior = len(dt_train_con.index)/len(df_train.index) # the condo class prior\n",
        "hos_prior = len(dt_train_hos.index)/len(df_train.index) # the house class prior\n",
        "\n",
        "print(\"The apartment class prior is: \", apt_prior, '\\r\\n')\n",
        "print(\"The condo class prior is: \", con_prior, '\\r\\n')\n",
        "print(\"The house class prior is: \", hos_prior, '\\r\\n')"
      ],
      "metadata": {
        "id": "tSo7yCWqFs4W",
        "colab": {
          "base_uri": "https://localhost:8080/"
        },
        "outputId": "be091163-2bdd-4b54-e50f-b00a0056c338"
      },
      "execution_count": null,
      "outputs": [
        {
          "output_type": "stream",
          "name": "stdout",
          "text": [
            "The apartment class prior is:  0.35 \r\n",
            "\n",
            "The condo class prior is:  0.3 \r\n",
            "\n",
            "The house class prior is:  0.35 \r\n",
            "\n"
          ]
        }
      ]
    },
    {
      "cell_type": "markdown",
      "source": [
        "**Part 2:** Using your conditional probability table, write a Python code that will compute the probabilities for each example in the test data. Your program should output the probabilities of each class as well as the final classification based on the MAP rule.\n",
        "Note: You should hard-code the conditional probabilities from the previous step into your\n",
        "code."
      ],
      "metadata": {
        "id": "Evl3FsaZHFAP"
      }
    },
    {
      "cell_type": "code",
      "source": [
        "# Calculate the probabilities of the classes based on the training set using MAP rule\n",
        "\n",
        "# calculate the apartment class posterior\n",
        "apt_post = np.zeros((len(df_train.index)))\n",
        "for i in range(len(df_train.index)):\n",
        "  apt_post[i] = apt_prior\n",
        "  for j in range(len(apt_prob.index)):\n",
        "    apt_post[i] = apt_post[i] * apt_prob.iloc[j,0]**df_train.iloc[i,j+1]\n",
        "\n",
        "# calculate the condo class posterior\n",
        "con_post = np.zeros((len(df_train.index)))\n",
        "for i in range(len(df_train.index)):\n",
        "  con_post[i] = con_prior\n",
        "  for j in range(len(con_prob.index)):\n",
        "    con_post[i] = con_post[i] * con_prob.iloc[j,0]**df_train.iloc[i,j+1]\n",
        "\n",
        "# calculate the house class posterior\n",
        "hos_post = np.zeros((len(df_train.index)))\n",
        "for i in range(len(df_train.index)):\n",
        "  hos_post[i] = hos_prior\n",
        "  for j in range(len(hos_prob.index)):\n",
        "    hos_post[i] = hos_post[i] * hos_prob.iloc[j,0]**df_train.iloc[i,j+1]\n",
        "\n",
        "\n",
        "print(\"The apartment class post is:\", apt_post, '\\r\\n')\n",
        "print(\"The condo class post is:\", con_post, '\\r\\n')\n",
        "print(\"The house class post is:\", hos_post, '\\r\\n')\n"
      ],
      "metadata": {
        "id": "n-eVZoN1HAra",
        "colab": {
          "base_uri": "https://localhost:8080/"
        },
        "outputId": "8a479b8b-62c0-4ba5-ad07-8797cb7ed0a1"
      },
      "execution_count": null,
      "outputs": [
        {
          "output_type": "stream",
          "name": "stdout",
          "text": [
            "The apartment class post is: [1.73329375e-36 6.66317350e-44 1.95088191e-32 1.14377640e-37\n",
            " 1.42872587e-35 1.61586942e-37 4.10208384e-41 6.93787133e-38\n",
            " 1.34757746e-66 1.38220806e-59 6.35221799e-38 3.00317733e-34\n",
            " 1.65847406e-32 4.06533715e-38 6.89859935e-33 6.93787133e-38\n",
            " 5.75045138e-48 2.66943875e-38 2.45948111e-36 7.18554259e-41] \r\n",
            "\n",
            "The condo class post is: [1.55166012e-36 7.70067498e-44 1.90103790e-32 1.19538247e-37\n",
            " 1.32604799e-35 1.69656587e-37 3.86922926e-41 4.74271059e-38\n",
            " 1.00033154e-66 7.55873515e-60 5.51473202e-38 2.49045672e-34\n",
            " 1.42331893e-32 3.49815167e-38 6.41804935e-33 4.74271059e-38\n",
            " 5.60563770e-48 2.00114312e-38 1.71049770e-36 5.18695342e-41] \r\n",
            "\n",
            "The house class post is: [1.12917082e-36 3.66018747e-44 1.09986170e-32 8.08087218e-38\n",
            " 1.13254573e-35 1.31191035e-37 3.57168221e-41 1.54546284e-37\n",
            " 6.59807075e-67 1.96265785e-59 7.26568493e-38 2.88612553e-34\n",
            " 1.55802581e-32 4.76652303e-38 6.04321288e-33 1.54546284e-37\n",
            " 3.09684358e-48 3.20958309e-38 2.79162333e-36 7.82737372e-41] \r\n",
            "\n"
          ]
        }
      ]
    },
    {
      "cell_type": "code",
      "source": [
        "# Calculate the accuracy of predictions on training set\n",
        "lab_train = df_train.iloc[: , -1].to_numpy()\n",
        "# extract the unique elements from the labels in the training set\n",
        "lab_train_sorted, sort_ind = np.unique(lab_train, return_inverse=True)\n",
        "\n",
        "prob_train = np.vstack([apt_post, con_post, hos_post]).argmax(axis=0)\n",
        "# calculate the accuracy of the predictions on the training set\n",
        "acc_train = accuracy(lab_train[sort_ind], lab_train[prob_train])\n",
        "print(\"The accuracy of prediction on the training set (percent) is: \", acc_train)"
      ],
      "metadata": {
        "colab": {
          "base_uri": "https://localhost:8080/"
        },
        "id": "AN-zmL2zhvW9",
        "outputId": "1916b4bf-fd6b-46d8-9376-0449c31923bb"
      },
      "execution_count": null,
      "outputs": [
        {
          "output_type": "stream",
          "name": "stdout",
          "text": [
            "The accuracy of prediction on the training set (percent) is:  45.0\n"
          ]
        }
      ]
    },
    {
      "cell_type": "code",
      "source": [
        "# Calculate the probabilities of the classes based on the training set using MAP rule\n",
        "\n",
        "apt_post_test = np.zeros((len(df_test.index))) # calculate the apartment class post based on the test set\n",
        "for i in range(len(df_test.index)):\n",
        "  apt_post_test[i] = apt_prior\n",
        "  for j in range(len(apt_prob.index)):\n",
        "    apt_post_test[i] = apt_post_test[i] * apt_prob.iloc[j,0]**df_test.iloc[i,j+1]\n",
        "\n",
        "con_post_test = np.zeros((len(df_test.index)))\n",
        "for i in range(len(df_test.index)):\n",
        "  con_post_test[i] = con_prior\n",
        "  for j in range(len(con_prob.index)):\n",
        "    con_post_test[i] = con_post_test[i] * con_prob.iloc[j,0]**df_test.iloc[i,j+1]\n",
        "\n",
        "hos_post_test = np.zeros((len(df_test.index)))\n",
        "for i in range(len(df_test.index)):\n",
        "  hos_post_test[i] = hos_prior\n",
        "  for j in range(len(hos_prob.index)):\n",
        "    hos_post_test[i] = hos_post_test[i] * hos_prob.iloc[j,0]**df_test.iloc[i,j+1]\n",
        "\n",
        "print(\"The apartment class post on the test set is:\", apt_post_test, '\\r\\n')\n",
        "print(\"The condo class post on the test set is:\", con_post_test, '\\r\\n')\n",
        "print(\"The house class post on the test set is:\", hos_post_test, '\\r\\n')\n"
      ],
      "metadata": {
        "id": "zDI_sH3Ulo7x",
        "colab": {
          "base_uri": "https://localhost:8080/"
        },
        "outputId": "a8810f82-182e-4528-d517-be26a40482fb"
      },
      "execution_count": null,
      "outputs": [
        {
          "output_type": "stream",
          "name": "stdout",
          "text": [
            "The apartment class post on the test set is: [4.08699466e-41 6.11248297e-52 2.11229526e-36 4.98478814e-46\n",
            " 1.08871175e-42] \r\n",
            "\n",
            "The condo class post on the test set is: [3.66648291e-41 5.22705979e-52 1.33279553e-36 3.72423729e-46\n",
            " 9.51486011e-43] \r\n",
            "\n",
            "The house class post on the test set is: [4.27691859e-41 7.24617233e-52 3.17601901e-36 4.37193751e-46\n",
            " 4.17852019e-43] \r\n",
            "\n"
          ]
        }
      ]
    },
    {
      "cell_type": "code",
      "source": [
        "# Calculating the accuracy of predictions on the test set\n",
        "\n",
        "lab_test = df_test.iloc[: , -1].to_numpy()\n",
        "\n",
        "y_test = np.zeros_like(lab_test)\n",
        "for i in range (len(lab_train_sorted)):\n",
        "  y_test[lab_test==lab_train_sorted[i]]= i\n",
        "y_test = y_test.astype(np.int32)\n",
        "\n",
        "prob_test = np.vstack([apt_post_test, con_post_test, hos_post_test]).argmax(axis=0)\n",
        "acc_test = accuracy(lab_test[y_test], lab_test[prob_test])\n",
        "print(\"The accuracy of prediction on the test set (percent) is: \", acc_test)"
      ],
      "metadata": {
        "id": "1eXw4aEFwgWf",
        "colab": {
          "base_uri": "https://localhost:8080/"
        },
        "outputId": "8670ffe0-f14b-4043-ac06-889f5b353866"
      },
      "execution_count": null,
      "outputs": [
        {
          "output_type": "stream",
          "name": "stdout",
          "text": [
            "The accuracy of prediction on the test set (percent) is:  80.0\n"
          ]
        }
      ]
    }
  ]
}