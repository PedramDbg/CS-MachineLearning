{
  "nbformat": 4,
  "nbformat_minor": 0,
  "metadata": {
    "colab": {
      "provenance": [],
      "collapsed_sections": [],
      "authorship_tag": "ABX9TyN4yIU4O9I/F5JWanrd3gle",
      "include_colab_link": true
    },
    "kernelspec": {
      "name": "python3",
      "display_name": "Python 3"
    },
    "language_info": {
      "name": "python"
    },
    "accelerator": "GPU"
  },
  "cells": [
    {
      "cell_type": "markdown",
      "metadata": {
        "id": "view-in-github",
        "colab_type": "text"
      },
      "source": [
        "<a href=\"https://colab.research.google.com/github/PedramDbg/CS-MachineLearning/blob/main/Assignment_2%5CML_HW_02_p2.ipynb\" target=\"_parent\"><img src=\"https://colab.research.google.com/assets/colab-badge.svg\" alt=\"Open In Colab\"/></a>"
      ]
    },
    {
      "cell_type": "markdown",
      "source": [
        "**Problem 2:**\n",
        "For the given data on canvas, construct a neural network for the regression task. Your network must have 1 hidden layer and 1 output layer. Use sigmoid to be your activation function for the hidden layer(s). You can choose the number of neurons in each layer using your intuition.\n",
        "The data is already split to have your input data for training (X_train.csv) and testing (X_train.csv) and their corresponding target values Y_train.csv and Y_test.csv, respectively. You can load the data as follows:\n",
        "X_train = np.loadtxt(\"X_train.csv\")\n",
        "Implement the backpropagation algorithm and train your network until convergence.\n",
        "\n",
        "Answer the following questions:\n",
        "\n",
        "```\n",
        "# This is formatted as code\n",
        "```\n",
        "\n"
      ],
      "metadata": {
        "id": "0rEsZG-yeJZM"
      }
    },
    {
      "cell_type": "markdown",
      "source": [
        "1. What is the activation function that you will choose for the output layer? Justify your answer briefly.\n",
        "\n",
        "Answer: Since we are going to build a regression model with real values in the output, linear activation function is a good fit for the output layer. "
      ],
      "metadata": {
        "id": "7CeQX0qw-dl5"
      }
    },
    {
      "cell_type": "markdown",
      "source": [
        "2. How many neurons should there be in the output layer? Why?\n",
        "\n",
        "As the output (label) has dimension \"1\", the designed network must have just \"1\" neuron in the output layer."
      ],
      "metadata": {
        "id": "MikC8ASk_ujs"
      }
    },
    {
      "cell_type": "code",
      "source": [
        "#import libraries\n",
        "import numpy as np\n",
        "import pandas as pd\n",
        "import matplotlib.pyplot as plt\n",
        "from google.colab import drive\n",
        "\n",
        "drive.mount('/content/drive')"
      ],
      "metadata": {
        "id": "Zgw-OTEQeRhd",
        "colab": {
          "base_uri": "https://localhost:8080/"
        },
        "outputId": "637b7556-1cfe-45c8-fd56-0bd085535c3d"
      },
      "execution_count": 44,
      "outputs": [
        {
          "output_type": "stream",
          "name": "stdout",
          "text": [
            "Drive already mounted at /content/drive; to attempt to forcibly remount, call drive.mount(\"/content/drive\", force_remount=True).\n"
          ]
        }
      ]
    },
    {
      "cell_type": "code",
      "source": [
        "#define the required functions\n",
        "\n",
        "#normalize and standardize the data\n",
        "def normalizer(x):\n",
        "    mean_x = np.mean(x, axis=0)\n",
        "    std_x = np.std(x, axis=0)\n",
        "    x = (x - mean_x) / std_x\n",
        "    return x\n",
        "\n",
        "#initialize weights\n",
        "def initilizer(n0, n1, n2):\n",
        "    w1 = np.random.randn(n1, n0) * 0.01\n",
        "    b1 = np.random.randn(n1, 1)\n",
        "    w2 = np.random.randn(n2, n1) * 0.01\n",
        "    b2 = np.random.randn(n2, 1)\n",
        "    param = {'w1':w1, 'b1':b1,'w2':w2,'b2':b2}\n",
        "    return param\n",
        "\n",
        "#sigmoid function\n",
        "def sigmoid(z):\n",
        "    return 1 / (1 + np.exp(-z))\n",
        "\n",
        "#relu function\n",
        "def relu(z):\n",
        "    return np.maximum(0,z)\n",
        "\n",
        "#forward propagation\n",
        "def forward_propagation(x, param, activation):\n",
        "    w1 = param['w1']\n",
        "    b1 = param['b1']\n",
        "    w2 = param['w2']\n",
        "    b2 = param['b2']\n",
        "    \n",
        "    z1 = np.dot(w1, x) + b1\n",
        "    \n",
        "    if activation == \"sigmoid\":\n",
        "        a1 = sigmoid(z1)\n",
        "    elif activation == \"relu\":\n",
        "        a1 = relu(z1)\n",
        "    elif activation == \"tanh\":\n",
        "        a1 = np.tanh(z1)\n",
        "    else:\n",
        "        a1 = sigmoid(z1)\n",
        "    #print(a1.shape)\n",
        "    \n",
        "    z2 = np.dot(w2, a1) + b2\n",
        "    a2 = z2\n",
        "    \n",
        "    cache = {'z1':z1, 'a1':a1, 'z2':z2, 'a2':a2}\n",
        "    return cache\n",
        "\n",
        "\n",
        "#compute cost\n",
        "def cost(x, y, cache):\n",
        "    a2 = cache['a2']\n",
        "    m = np.shape(y)[1]\n",
        "\n",
        "    loss = (1/m) * (y - a2) @ (y - a2).T  #1/2m????\n",
        "    loss = float(np.squeeze(loss))\n",
        "    return loss\n",
        "\n",
        "#backward propagation\n",
        "def backward_propagation(x, y, param, cache, activation):\n",
        "    m = np.shape(x)[1]\n",
        "\n",
        "    w1 = param['w1']\n",
        "    b1 = param['b1']\n",
        "    w2 = param['w2']\n",
        "    b2 = param['b2']\n",
        "    \n",
        "    z1 = cache['z1']\n",
        "    a1 = cache['a1']\n",
        "    z2 = cache['z2']\n",
        "    a2 = cache['a2']\n",
        "    \n",
        "    dz2 = a2 - y\n",
        "    dw2 = (1/m) * np.dot(dz2,a1.T)\n",
        "    db2 = (1/m) * np.sum(dz2, axis=1, keepdims=True)\n",
        "    \n",
        "    if activation == \"sigmoid\":\n",
        "        dz1 = np.dot(w2.T, dz2) * sigmoid(z1) * (1 - sigmoid(z1))\n",
        "    elif activation == \"relu\":\n",
        "        dz1 = np.array(np.dot(w2.T, dz2), copy=True)\n",
        "        dz1[z1 <= 0] = 0\n",
        "    elif activation == \"tanh\":\n",
        "        dz1 = np.dot(w2.T, dz2) * (1 - np.tanh(z1)*np.tanh(z1))\n",
        "    #print('----------===', dz1.shape)\n",
        "\n",
        "    dw1 = (1/m) * np.dot(dz1, x.T)\n",
        "    db1 = (1/m) * np.sum(dz1, axis=1, keepdims=True)\n",
        "    #print('----------===', dw1.shape)\n",
        "    grad = {'dz1':dz1, 'dw1':dw1, 'db1':db1, 'dz2':dz2, 'dw2':dw2, 'db2':db2}\n",
        "    \n",
        "    return grad\n",
        "\n",
        "#update the parameters\n",
        "def update(x, y, param, grad, lr):\n",
        "    w1 = param['w1']\n",
        "    b1 = param['b1']\n",
        "    w2 = param['w2']\n",
        "    b2 = param['b2']\n",
        "    \n",
        "    dw1 = grad['dw1']\n",
        "    db1 = grad['db1']\n",
        "    dw2 = grad['dw2']\n",
        "    db2 = grad['db2']\n",
        "    \n",
        "    w1 = w1 - lr * dw1\n",
        "    b1 = b1 - lr * db1\n",
        "    w2 = w2 - lr * dw2\n",
        "    b2 = b2 - lr * db2\n",
        "    \n",
        "    param = {'w1':w1, 'b1':b1,'w2':w2,'b2':b2}\n",
        "    \n",
        "    return param"
      ],
      "metadata": {
        "id": "Sr8hQSd-1COu"
      },
      "execution_count": 45,
      "outputs": []
    },
    {
      "cell_type": "code",
      "source": [
        "#import the data\n",
        "path_Xtrain = \"/content/drive/My Drive/Machine_Learning/Assignments/assignment_2/X_train.csv\"\n",
        "path_Ytrain = \"/content/drive/My Drive/Machine_Learning/Assignments/assignment_2/Y_train.csv\"\n",
        "path_Xtest = \"/content/drive/My Drive/Machine_Learning/Assignments/assignment_2/X_test.csv\"\n",
        "path_Ytest = \"/content/drive/My Drive/Machine_Learning/Assignments/assignment_2/Y_test.csv\"\n",
        "\n",
        "xtrain = pd.read_csv(path_Xtrain, delimiter = \" \").to_numpy()\n",
        "ytrain = pd.read_csv(path_Ytrain, delimiter = \" \").to_numpy()\n",
        "xtest = pd.read_csv(path_Xtest, delimiter = \" \").to_numpy()\n",
        "ytest = pd.read_csv(path_Ytest, delimiter = \" \").to_numpy()\n",
        "#standardize the data\n",
        "xtrain_norm = normalizer(xtrain).T\n",
        "ytrain_norm = normalizer(ytrain).T\n",
        "xtest_norm = normalizer(xtest)\n",
        "ytest_norm = normalizer(ytest)\n"
      ],
      "metadata": {
        "id": "NtoAw2R41HYB"
      },
      "execution_count": 46,
      "outputs": []
    },
    {
      "cell_type": "code",
      "source": [
        "n0, m = np.shape(xtrain_norm)\n",
        "n1 = 5 #number of units in layer_1\n",
        "n2, _ = np.shape(ytrain_norm) #n2:the size of the output layer\n",
        "\n",
        "J_vec = []\n",
        "lr = 0.1\n",
        "param = initilizer(n0, n1, n2)\n",
        "n_iteration = 1000\n",
        "#train the network with the training set\n",
        "for i in range(n_iteration):\n",
        "    #apply forward propagation to derive cache\n",
        "    cache = forward_propagation(xtrain_norm, param, activation=\"sigmoid\")\n",
        "    #compute the cost\n",
        "    loss = cost(xtrain_norm, ytrain_norm, cache)\n",
        "    J_vec.append(loss)\n",
        "    #apply backward propagation to derive gradients\n",
        "    grad = backward_propagation(xtrain_norm, ytrain_norm, param, cache, activation=\"sigmoid\")\n",
        "    #update the parameters\n",
        "    param = update(xtrain_norm, ytrain_norm, param, grad, lr)\n",
        "\n",
        "w1 = param[\"w1\"]\n",
        "b1 = param[\"b1\"]\n",
        "w2 = param[\"w2\"]\n",
        "b2 = param[\"b2\"]\n",
        "a2 = cache['a2']\n",
        "#print the final (trained) parameters\n",
        "print(\"w1 (weight of 1st layer  = \" , w1)\n",
        "print(\"b1 (bais of 1st layer  = \" , b1)\n",
        "print(\"w2 (weight of 2nd layer  = \" , w2)\n",
        "print(\"b2 (bais of 2nd layer  = \" , b2)\n",
        "\n",
        "error_train = np.sqrt(((a2 - ytrain_norm) ** 2).mean())\n",
        "print(\"error_train = \", error_train)"
      ],
      "metadata": {
        "colab": {
          "base_uri": "https://localhost:8080/"
        },
        "id": "jmTxaFVE87sM",
        "outputId": "e84fe175-e2eb-4d3c-f70f-9dadb199c3e8"
      },
      "execution_count": 47,
      "outputs": [
        {
          "output_type": "stream",
          "name": "stdout",
          "text": [
            "w1 (weight of 1st layer  =  [[-0.01605993 -0.82759739]\n",
            " [-0.02915706 -0.73574057]\n",
            " [ 0.01092617 -1.15480017]\n",
            " [-0.02346546 -0.82883787]\n",
            " [ 0.03536744 -1.21781547]]\n",
            "b1 (bais of 1st layer  =  [[-0.5579982 ]\n",
            " [-0.72176106]\n",
            " [ 0.03194927]\n",
            " [-0.57194936]\n",
            " [ 0.36199243]]\n",
            "w2 (weight of 2nd layer  =  [[-0.74940027 -0.62032882 -1.31167842 -0.75057065 -1.31312483]]\n",
            "b2 (bais of 2nd layer  =  [[2.19754342]]\n",
            "error_train =  0.08145579344239405\n"
          ]
        }
      ]
    },
    {
      "cell_type": "markdown",
      "source": [
        "3. Report the average MSE loss and the accuracy.\n"
      ],
      "metadata": {
        "id": "zpbeldr7ApeU"
      }
    },
    {
      "cell_type": "code",
      "source": [
        "error_ave = np.average(np.array(J_vec))\n",
        "print(\"The average error for the designed model is:\", error_ave)"
      ],
      "metadata": {
        "colab": {
          "base_uri": "https://localhost:8080/"
        },
        "id": "sE4EepRFAr5T",
        "outputId": "a749d332-29bc-419e-d93d-3fda2bc39780"
      },
      "execution_count": 48,
      "outputs": [
        {
          "output_type": "stream",
          "name": "stdout",
          "text": [
            "The average error for the designed model is: 0.08680293019516384\n"
          ]
        }
      ]
    },
    {
      "cell_type": "markdown",
      "source": [
        "4. Plot the loss and accuracy as a function of the number of iterations."
      ],
      "metadata": {
        "id": "QktO5jwrBch5"
      }
    },
    {
      "cell_type": "code",
      "source": [
        "#plot the cost\n",
        "plt.plot(np.arange(n_iteration), J_vec)\n",
        "plt.xlabel('number of iterations')\n",
        "plt.ylabel('cost')"
      ],
      "metadata": {
        "id": "u2BkxmE3BZZU",
        "colab": {
          "base_uri": "https://localhost:8080/",
          "height": 296
        },
        "outputId": "a43883ef-0ffa-4848-ef3a-0dd2b9d48282"
      },
      "execution_count": 49,
      "outputs": [
        {
          "output_type": "execute_result",
          "data": {
            "text/plain": [
              "Text(0, 0.5, 'cost')"
            ]
          },
          "metadata": {},
          "execution_count": 49
        },
        {
          "output_type": "display_data",
          "data": {
            "text/plain": [
              "<Figure size 432x288 with 1 Axes>"
            ],
            "image/png": "[encoded data removed]"
          },
          "metadata": {
            "needs_background": "light"
          }
        }
      ]
    },
    {
      "cell_type": "markdown",
      "source": [
        "5. What is the effect of the learning rate on the training process? Vary the learning rate to be\n",
        "between 0.001 and 1.0 and plot the resulting accuracy as a function of learning rate."
      ],
      "metadata": {
        "id": "_LTBbhl5CBc4"
      }
    },
    {
      "cell_type": "code",
      "source": [
        "n_iteration = 1000   # number of iterations\n",
        "num_lr = 20 #number of implemented learning rates\n",
        "lr_lst = np.linspace(0.001, 1, num_lr)\n",
        "err_lst = []\n",
        "for lr in lr_lst:\n",
        "  for i in range(n_iteration):\n",
        "    #apply forward propagation to derive cache\n",
        "    cache = forward_propagation(xtrain_norm, param, activation=\"sigmoid\")\n",
        "    #compute the cost\n",
        "    loss = cost(xtrain_norm, ytrain_norm, cache)\n",
        "    J_vec.append(loss)\n",
        "    #apply backward propagation to derive gradients\n",
        "    grad = backward_propagation(xtrain_norm, ytrain_norm, param, cache, activation=\"sigmoid\")\n",
        "    #update the parameters\n",
        "    param = update(xtrain_norm, ytrain_norm, param, grad, lr)\n",
        "  error_ave = np.average(np.array(J_vec))\n",
        "  err_lst.append(error_ave)\n",
        "  print('learning rate=', lr, ': average error=', error_ave)\n",
        "\n",
        "plt.plot(lr_lst, err_lst, '.-')\n",
        "plt.xlabel('learning rate')\n",
        "plt.ylabel('error')"
      ],
      "metadata": {
        "colab": {
          "base_uri": "https://localhost:8080/",
          "height": 643
        },
        "id": "kLTwHQTZCCyv",
        "outputId": "8ed66dfb-7928-4c2a-9439-1ff0bc403423"
      },
      "execution_count": 50,
      "outputs": [
        {
          "output_type": "stream",
          "name": "stdout",
          "text": [
            "learning rate= 0.001 : average error= 0.046708579261398556\n",
            "learning rate= 0.05357894736842105 : average error= 0.03307882595898919\n",
            "learning rate= 0.1061578947368421 : average error= 0.02588830842386527\n",
            "learning rate= 0.15873684210526315 : average error= 0.02132571945095076\n",
            "learning rate= 0.2113157894736842 : average error= 0.018144486976766763\n",
            "learning rate= 0.26389473684210524 : average error= 0.015791372940437722\n",
            "learning rate= 0.3164736842105263 : average error= 0.013976663742152515\n",
            "learning rate= 0.36905263157894735 : average error= 0.012532430455815242\n",
            "learning rate= 0.4216315789473684 : average error= 0.011354220060614257\n",
            "learning rate= 0.47421052631578947 : average error= 0.010373582991773397\n",
            "learning rate= 0.5267894736842105 : average error= 0.009543860797022742\n",
            "learning rate= 0.5793684210526315 : average error= 0.008832294622345936\n",
            "learning rate= 0.6319473684210526 : average error= 0.008215350968880781\n",
            "learning rate= 0.6845263157894736 : average error= 0.007675751737201917\n",
            "learning rate= 0.7371052631578947 : average error= 0.007200459261464404\n",
            "learning rate= 0.7896842105263158 : average error= 0.007583660992540814\n",
            "learning rate= 0.8422631578947368 : average error= 0.007505711893386591\n",
            "learning rate= 0.8948421052631579 : average error= 0.0076579621099244445\n",
            "learning rate= 0.9474210526315789 : average error= 0.007759724375024703\n",
            "learning rate= 1.0 : average error= 0.007953602849607342\n"
          ]
        },
        {
          "output_type": "execute_result",
          "data": {
            "text/plain": [
              "Text(0, 0.5, 'error')"
            ]
          },
          "metadata": {},
          "execution_count": 50
        },
        {
          "output_type": "display_data",
          "data": {
            "text/plain": [
              "<Figure size 432x288 with 1 Axes>"
            ],
            "image/png": "[encoded data removed]"
          },
          "metadata": {
            "needs_background": "light"
          }
        }
      ]
    },
    {
      "cell_type": "markdown",
      "source": [
        "6. What is the effect of the number of neurons in the hidden layer? To answer this question,\n",
        "you will need to consider and answer the following:\n",
        "\n",
        "a. You will need to vary the number of neurons from 1 to 10. Does the update rule need to be changed/derived again? Why or why not?\n",
        "\n",
        "b. Report your observations by reporting the final loss and plotting the true labels and your predicted labels, along with a brief (2-3 lines) description."
      ],
      "metadata": {
        "id": "1T93YUKjGShs"
      }
    },
    {
      "cell_type": "markdown",
      "source": [
        "Answer 6.a: The update rule is the same for any number od hidden layers as the dimensions of the parameters are compatible overally. But the dimension of the parameters (weights and biases) will change.\n",
        "\n",
        "Totally, the dimension of parameters depends on the number of features in the input matrix (n0), the number of nodes in the hidden layer (n1) and the number of nodes in the output layer (n2).\n"
      ],
      "metadata": {
        "id": "b4lLPCn-KN-n"
      }
    },
    {
      "cell_type": "markdown",
      "source": [
        "Answer 6.b:"
      ],
      "metadata": {
        "id": "4EJYbT1qMxn4"
      }
    },
    {
      "cell_type": "code",
      "source": [
        "n_iteration = 600\n",
        "n0, _ = np.shape(xtrain_norm)\n",
        "n2, _ = np.shape(ytrain_norm)\n",
        "err_lst = []\n",
        "lr = 0.7\n",
        "for n1 in np.arange(1, 10):\n",
        "    w1 = np.random.randn(n1, n0) * 0.01\n",
        "    b1 = np.random.randn(n1, 1)\n",
        "    w2 = np.random.randn(n2, n1) * 0.01\n",
        "    b2 = np.random.randn(n2, 1)\n",
        "    param = {'w1':w1, 'b1':b1,'w2':w2,'b2':b2}\n",
        "    for i in range(n_iteration):\n",
        "      #apply forward propagation to derive cache\n",
        "      cache = forward_propagation(xtrain_norm, param, activation=\"sigmoid\")\n",
        "      #compute the cost\n",
        "      loss = cost(xtrain_norm, ytrain_norm, cache)\n",
        "      J_vec.append(loss)\n",
        "      #apply backward propagation to derive gradients\n",
        "      grad = backward_propagation(xtrain_norm, ytrain_norm, param, cache, activation=\"sigmoid\")\n",
        "      #update the parameters\n",
        "      param = update(xtrain_norm, ytrain_norm, param, grad, lr)\n",
        "      error_ave = np.average(np.array(J_vec))\n",
        "      err_lst.append(error_ave)\n",
        "      \n",
        "    cache_test = forward_propagation(xtest_norm.T, param, activation='sigmoid')\n",
        "    y_hat = cache_test['a2']\n",
        "    plt.plot(y_hat, ytest_norm.T, '.', color='blue')\n",
        "    plt.xlabel('predicted')\n",
        "    plt.ylabel('label')\n",
        "    plt.show()\n",
        "\n",
        "    print('number of hidden layers=', n1,  ', average error=', error_ave)\n",
        "\n"
      ],
      "metadata": {
        "id": "xZ_XW2n_GSJl",
        "colab": {
          "base_uri": "https://localhost:8080/",
          "height": 1000
        },
        "outputId": "21967758-16db-4df9-dc93-d98603d711f9"
      },
      "execution_count": 51,
      "outputs": [
        {
          "output_type": "display_data",
          "data": {
            "text/plain": [
              "<Figure size 432x288 with 1 Axes>"
            ],
            "image/png": "[encoded data removed]"
          },
          "metadata": {
            "needs_background": "light"
          }
        },
        {
          "output_type": "stream",
          "name": "stdout",
          "text": [
            "number of hidden layers= 1 , average error= 0.009104696132392884\n"
          ]
        },
        {
          "output_type": "display_data",
          "data": {
            "text/plain": [
              "<Figure size 432x288 with 1 Axes>"
            ],
            "image/png": "[encoded data removed]"
          },
          "metadata": {
            "needs_background": "light"
          }
        },
        {
          "output_type": "stream",
          "name": "stdout",
          "text": [
            "number of hidden layers= 2 , average error= 0.010115648653798995\n"
          ]
        },
        {
          "output_type": "display_data",
          "data": {
            "text/plain": [
              "<Figure size 432x288 with 1 Axes>"
            ],
            "image/png": "[encoded data removed]"
          },
          "metadata": {
            "needs_background": "light"
          }
        },
        {
          "output_type": "stream",
          "name": "stdout",
          "text": [
            "number of hidden layers= 3 , average error= 0.010684701578653855\n"
          ]
        },
        {
          "output_type": "display_data",
          "data": {
            "text/plain": [
              "<Figure size 432x288 with 1 Axes>"
            ],
            "image/png": "[encoded data removed]"
          },
          "metadata": {
            "needs_background": "light"
          }
        },
        {
          "output_type": "stream",
          "name": "stdout",
          "text": [
            "number of hidden layers= 4 , average error= 0.011325627658371203\n"
          ]
        },
        {
          "output_type": "display_data",
          "data": {
            "text/plain": [
              "<Figure size 432x288 with 1 Axes>"
            ],
            "image/png": "[encoded data removed]"
          },
          "metadata": {
            "needs_background": "light"
          }
        },
        {
          "output_type": "stream",
          "name": "stdout",
          "text": [
            "number of hidden layers= 5 , average error= 0.012113592080721105\n"
          ]
        },
        {
          "output_type": "display_data",
          "data": {
            "text/plain": [
              "<Figure size 432x288 with 1 Axes>"
            ],
            "image/png": "[encoded data removed]"
          },
          "metadata": {
            "needs_background": "light"
          }
        },
        {
          "output_type": "stream",
          "name": "stdout",
          "text": [
            "number of hidden layers= 6 , average error= 0.016039774142485683\n"
          ]
        },
        {
          "output_type": "display_data",
          "data": {
            "text/plain": [
              "<Figure size 432x288 with 1 Axes>"
            ],
            "image/png": "[encoded data removed]"
          },
          "metadata": {
            "needs_background": "light"
          }
        },
        {
          "output_type": "stream",
          "name": "stdout",
          "text": [
            "number of hidden layers= 7 , average error= 0.016630226093679427\n"
          ]
        },
        {
          "output_type": "display_data",
          "data": {
            "text/plain": [
              "<Figure size 432x288 with 1 Axes>"
            ],
            "image/png": "[encoded data removed]"
          },
          "metadata": {
            "needs_background": "light"
          }
        },
        {
          "output_type": "stream",
          "name": "stdout",
          "text": [
            "number of hidden layers= 8 , average error= 0.01785437515674654\n"
          ]
        },
        {
          "output_type": "display_data",
          "data": {
            "text/plain": [
              "<Figure size 432x288 with 1 Axes>"
            ],
            "image/png": "[encoded data removed]"
          },
          "metadata": {
            "needs_background": "light"
          }
        },
        {
          "output_type": "stream",
          "name": "stdout",
          "text": [
            "number of hidden layers= 9 , average error= 0.018709820239217426\n"
          ]
        }
      ]
    },
    {
      "cell_type": "markdown",
      "source": [
        "7. What is the effect of the activation functions in the network? Explore two different activation functions other than sigmoid such as tanh, linear, or ReLU.\n",
        "\n",
        "a. Will you need to change the update rule?\n",
        "\n",
        "b. What is the change that you need to make to achieve this experiment?\n",
        "\n",
        "c. Report your observations by reporting the final loss and plotting the true labels and your predicted labels, along with a brief (2-3 lines) description."
      ],
      "metadata": {
        "id": "DVrOkxL4M0zV"
      }
    },
    {
      "cell_type": "markdown",
      "source": [
        "Answer 7.a: Yes, the update rule must be changed in each case since the activation functions and their derivatives exist in forward and backward propagation. "
      ],
      "metadata": {
        "id": "n4XYz9Y7Pn1S"
      }
    },
    {
      "cell_type": "markdown",
      "source": [
        "Answer 7.b: The activation functions in the forward propagation must be changed. Also, the derivatives of the activation functions in backward propagation must be changed as they are required when we employ chain rule to calculate the derivatives of the parameters.\n"
      ],
      "metadata": {
        "id": "LPZsSPG2QS31"
      }
    },
    {
      "cell_type": "markdown",
      "source": [
        "Answer 7.c: The Relu activation function seems to give the better results."
      ],
      "metadata": {
        "id": "TH0wjvdUQ5xu"
      }
    },
    {
      "cell_type": "code",
      "source": [
        "#activation = Relu \n",
        "n0, m = np.shape(xtrain_norm)\n",
        "n1 = 5 #number of units in layer_1\n",
        "n2, _ = np.shape(ytrain_norm) #n2:the size of the output layer\n",
        "\n",
        "J_vec = []\n",
        "lr = 0.1\n",
        "param = initilizer(n0, n1, n2)\n",
        "n_iteration = 1000\n",
        "\n",
        "for i in range(n_iteration):\n",
        "  #apply forward propagation to derive cache\n",
        "  cache = forward_propagation(xtrain_norm, param, activation=\"relu\")\n",
        "  #compute the cost\n",
        "  loss = cost(xtrain_norm, ytrain_norm, cache)\n",
        "  J_vec.append(loss)\n",
        "  #apply backward propagation to derive gradients\n",
        "  grad = backward_propagation(xtrain_norm, ytrain_norm, param, cache, activation=\"relu\")\n",
        "  #update the parameters\n",
        "  param = update(xtrain_norm, ytrain_norm, param, grad, lr)\n",
        "\n",
        "error_ave = np.average(np.array(J_vec))\n",
        "print('The average error for Relu activation function is: ', error_ave)\n",
        "\n",
        "cache_test = forward_propagation(xtest_norm.T, param, activation='relu')\n",
        "y_hat = cache_test['a2']\n",
        "plt.plot(y_hat, ytest_norm.T, '.', color='blue')\n",
        "plt.xlabel('predicted')\n",
        "plt.ylabel('label')\n",
        "plt.show()"
      ],
      "metadata": {
        "colab": {
          "base_uri": "https://localhost:8080/",
          "height": 296
        },
        "id": "AcWlQwLaNCoG",
        "outputId": "9bfaafe9-a7ae-4dd0-995a-1329a5806043"
      },
      "execution_count": 52,
      "outputs": [
        {
          "output_type": "stream",
          "name": "stdout",
          "text": [
            "The average error for Relu activation function is:  0.053210051509154574\n"
          ]
        },
        {
          "output_type": "display_data",
          "data": {
            "text/plain": [
              "<Figure size 432x288 with 1 Axes>"
            ],
            "image/png": "[encoded data removed]"
          },
          "metadata": {
            "needs_background": "light"
          }
        }
      ]
    },
    {
      "cell_type": "code",
      "source": [
        "#activation = tanh \n",
        "n0, m = np.shape(xtrain_norm)\n",
        "n1 = 5 #number of units in layer_1\n",
        "n2, _ = np.shape(ytrain_norm) #n2:the size of the output layer\n",
        "\n",
        "J_vec = []\n",
        "lr = 0.1\n",
        "param = initilizer(n0, n1, n2)\n",
        "n_iteration = 1000\n",
        "\n",
        "for i in range(n_iteration):\n",
        "  #apply forward propagation to derive cache\n",
        "  cache = forward_propagation(xtrain_norm, param, activation=\"tanh\")\n",
        "  #compute the cost\n",
        "  loss = cost(xtrain_norm, ytrain_norm, cache)\n",
        "  J_vec.append(loss)\n",
        "  #apply backward propagation to derive gradients\n",
        "  grad = backward_propagation(xtrain_norm, ytrain_norm, param, cache, activation=\"tanh\")\n",
        "  #update the parameters\n",
        "  param = update(xtrain_norm, ytrain_norm, param, grad, lr)\n",
        "\n",
        "error_ave = np.average(np.array(J_vec))\n",
        "print('The average error for Relu activation function is: ', error_ave)\n",
        "\n",
        "cache_test = forward_propagation(xtest_norm.T, param, activation='tanh')\n",
        "y_hat = cache_test['a2']\n",
        "plt.plot(y_hat, ytest_norm.T, '.', color='blue')\n",
        "plt.xlabel('predicted')\n",
        "plt.ylabel('label')\n",
        "plt.show()"
      ],
      "metadata": {
        "colab": {
          "base_uri": "https://localhost:8080/",
          "height": 296
        },
        "id": "wdMns5ZZWYqj",
        "outputId": "807c8970-8dd5-45c2-b43c-d904ce0f5009"
      },
      "execution_count": 53,
      "outputs": [
        {
          "output_type": "stream",
          "name": "stdout",
          "text": [
            "The average error for Relu activation function is:  0.03962297777163586\n"
          ]
        },
        {
          "output_type": "display_data",
          "data": {
            "text/plain": [
              "<Figure size 432x288 with 1 Axes>"
            ],
            "image/png": "[encoded data removed]"
          },
          "metadata": {
            "needs_background": "light"
          }
        }
      ]
    },
    {
      "cell_type": "code",
      "source": [
        "m_test = xtest_norm.shape[0]\n",
        "plt.figure(1)\n",
        "plt.plot(np.arange(m_test), y_hat.T, 'o', color='black', label=\"predicted\")\n",
        "plt.plot(np.arange(m_test), ytest_norm, '.-', color='blue', label=\"label\")\n",
        "plt.xlabel('examples')\n",
        "plt.ylabel('label')\n",
        "plt.legend(loc=\"upper right\")\n",
        "plt.show()"
      ],
      "metadata": {
        "id": "lUpE9EauBTot",
        "colab": {
          "base_uri": "https://localhost:8080/",
          "height": 279
        },
        "outputId": "ec2bba85-c2d4-4553-979f-85165d275bd4"
      },
      "execution_count": 63,
      "outputs": [
        {
          "output_type": "display_data",
          "data": {
            "text/plain": [
              "<Figure size 432x288 with 1 Axes>"
            ],
            "image/png": "[encoded data removed]"
          },
          "metadata": {
            "needs_background": "light"
          }
        }
      ]
    }
  ]
}